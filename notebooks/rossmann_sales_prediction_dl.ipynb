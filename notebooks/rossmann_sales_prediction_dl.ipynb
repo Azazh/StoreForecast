{
 "cells": [
  {
   "cell_type": "code",
   "execution_count": null,
   "metadata": {},
   "outputs": [],
   "source": [
    "import pandas as pd\n",
    "import numpy as np\n",
    "import matplotlib.pyplot as plt\n",
    "from tensorflow.keras.models import Sequential\n",
    "from tensorflow.keras.layers import LSTM, Dense, Dropout\n",
    "from tensorflow.keras.callbacks import EarlyStopping, ReduceLROnPlateau\n",
    "from sklearn.preprocessing import MinMaxScaler\n",
    "from sklearn.model_selection import train_test_split\n",
    "from sklearn.metrics import mean_squared_error, mean_absolute_error\n",
    "from datetime import datetime\n",
    "\n",
    "# Task 2.1: Preprocessing\n",
    "# Load datasets\n",
    "train_df = pd.read_csv(\"../data/rossmann_store_sales/train.csv\", low_memory=False)\n",
    "store_df = pd.read_csv(\"../data/rossmann_store_sales/store.csv\")\n",
    "sample_submission_df = pd.read_csv(\"../data/rossmann_store_sales/sample_submission.csv\")"
   ]
  },
  {
   "cell_type": "code",
   "execution_count": null,
   "metadata": {},
   "outputs": [],
   "source": [
    "# Merge store data with train data\n",
    "train_df = train_df.merge(store_df, on='Store', how='left')\n",
    "\n",
    "# Prepare time series data for LSTM model\n",
    "scaler_ts = MinMaxScaler()\n",
    "ts_data = train_df[['Date', 'Sales']].set_index('Date').resample('D').sum().fillna(0)\n",
    "ts_data['Sales'] = scaler_ts.fit_transform(ts_data[['Sales']])\n"
   ]
  },
  {
   "cell_type": "code",
   "execution_count": null,
   "metadata": {},
   "outputs": [],
   "source": [
    "# Create supervised data for LSTM model\n",
    "window_size = 30\n",
    "\n",
    "def create_supervised_data(data, window_size):\n",
    "    X, y = [], []\n",
    "    for i in range(len(data) - window_size):\n",
    "        X.append(data[i:i + window_size])\n",
    "        y.append(data[i + window_size])\n",
    "    return np.array(X), np.array(y)\n",
    "\n",
    "X_ts, y_ts = create_supervised_data(ts_data['Sales'].values, window_size)\n",
    "\n",
    "# Split data for LSTM model\n",
    "X_ts_train, X_ts_test, y_ts_train, y_ts_test = train_test_split(X_ts, y_ts, test_size=0.2, random_state=42)\n",
    "\n",
    "# Reshape for LSTM model\n",
    "X_ts_train = X_ts_train.reshape((X_ts_train.shape[0], X_ts_train.shape[1], 1))\n",
    "X_ts_test = X_ts_test.reshape((X_ts_test.shape[0], X_ts_test.shape[1], 1))"
   ]
  }
 ],
 "metadata": {
  "kernelspec": {
   "display_name": "newenv",
   "language": "python",
   "name": "python3"
  },
  "language_info": {
   "name": "python",
   "version": "3.10.12"
  }
 },
 "nbformat": 4,
 "nbformat_minor": 2
}
