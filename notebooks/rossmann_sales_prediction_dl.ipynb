{
 "cells": [
  {
   "cell_type": "code",
   "execution_count": null,
   "metadata": {},
   "outputs": [],
   "source": [
    "import pandas as pd\n",
    "import numpy as np\n",
    "import matplotlib.pyplot as plt\n",
    "from tensorflow.keras.models import Sequential\n",
    "from tensorflow.keras.layers import LSTM, Dense, Dropout\n",
    "from tensorflow.keras.callbacks import EarlyStopping, ReduceLROnPlateau\n",
    "from sklearn.preprocessing import MinMaxScaler\n",
    "from sklearn.model_selection import train_test_split\n",
    "from sklearn.metrics import mean_squared_error, mean_absolute_error\n",
    "from datetime import datetime\n",
    "\n",
    "# Task 2.1: Preprocessing\n",
    "# Load datasets\n",
    "train_df = pd.read_csv(\"../data/rossmann_store_sales/train.csv\", low_memory=False)\n",
    "store_df = pd.read_csv(\"../data/rossmann_store_sales/store.csv\")\n",
    "sample_submission_df = pd.read_csv(\"../data/rossmann_store_sales/sample_submission.csv\")"
   ]
  },
  {
   "cell_type": "code",
   "execution_count": null,
   "metadata": {},
   "outputs": [],
   "source": [
    "# Merge store data with train data\n",
    "train_df = train_df.merge(store_df, on='Store', how='left')\n",
    "\n",
    "# Prepare time series data for LSTM model\n",
    "scaler_ts = MinMaxScaler()\n",
    "ts_data = train_df[['Date', 'Sales']].set_index('Date').resample('D').sum().fillna(0)\n",
    "ts_data['Sales'] = scaler_ts.fit_transform(ts_data[['Sales']])\n"
   ]
  }
 ],
 "metadata": {
  "kernelspec": {
   "display_name": "newenv",
   "language": "python",
   "name": "python3"
  },
  "language_info": {
   "name": "python",
   "version": "3.10.12"
  }
 },
 "nbformat": 4,
 "nbformat_minor": 2
}
